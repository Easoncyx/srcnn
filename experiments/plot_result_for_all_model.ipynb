{
 "cells": [
  {
   "cell_type": "code",
   "execution_count": 66,
   "metadata": {},
   "outputs": [],
   "source": [
    "from pathlib import Path\n",
    "import numpy as np\n",
    "import matplotlib.pyplot as plt\n",
    "import pandas as pd\n",
    "import os\n",
    "import sys\n",
    "\n",
    "repo_dir = os.path.abspath(os.path.join('..'))\n",
    "if repo_dir not in sys.path:\n",
    "    sys.path.append(repo_dir)\n",
    "\n",
    "results_dir = Path(repo_dir) / 'experiments' / 'results'\n",
    "results_dir.mkdir(exist_ok=True)"
   ]
  },
  {
   "cell_type": "code",
   "execution_count": 78,
   "metadata": {},
   "outputs": [
    {
     "name": "stdout",
     "output_type": "stream",
     "text": [
      "bicubic-sc4\n",
      "espcn-sc4\n",
      "hevc-sc4\n",
      "srcnn-9-1-5-sc4\n",
      "srcnn-9-5-5-sc4\n"
     ]
    }
   ],
   "source": [
    "scale = 4\n",
    "test_set = 'Set14'\n",
    "time = []\n",
    "psnr = []\n",
    "model = []\n",
    "for save_dir in sorted(Path('.').glob(f'*-sc{scale}')):\n",
    "    print(save_dir)\n",
    "#     if 'bicubic' not in save_dir.stem:\n",
    "    model += [save_dir.stem.rsplit('-', 1)[0].upper()]\n",
    "    metrics_file = save_dir / f'test/{test_set}/metrics.csv'\n",
    "    metrics = pd.read_csv(str(metrics_file), index_col='name')\n",
    "    time += [metrics.time.average]\n",
    "    psnr += [metrics.psnr.average]\n"
   ]
  },
  {
   "cell_type": "code",
   "execution_count": 79,
   "metadata": {},
   "outputs": [
    {
     "data": {
      "text/plain": [
       "['BICUBIC', 'ESPCN', 'HEVC', 'SRCNN-9-1-5', 'SRCNN-9-5-5']"
      ]
     },
     "execution_count": 79,
     "metadata": {},
     "output_type": "execute_result"
    }
   ],
   "source": [
    "model"
   ]
  },
  {
   "cell_type": "code",
   "execution_count": 80,
   "metadata": {},
   "outputs": [
    {
     "data": {
      "text/plain": [
       "[22.054152216230122,\n",
       " 25.400130680629182,\n",
       " 19.813202585492814,\n",
       " 25.314588138035365,\n",
       " 25.61502892630441]"
      ]
     },
     "execution_count": 80,
     "metadata": {},
     "output_type": "execute_result"
    }
   ],
   "source": [
    "psnr"
   ]
  },
  {
   "cell_type": "code",
   "execution_count": 75,
   "metadata": {},
   "outputs": [
    {
     "data": {
      "image/png": "[encoded data removed]",
      "text/plain": [
       "<Figure size 432x288 with 1 Axes>"
      ]
     },
     "metadata": {
      "needs_background": "light"
     },
     "output_type": "display_data"
    }
   ],
   "source": [
    "plt.figure()\n",
    "plt.plot(time, psnr, '.')\n",
    "# plt.semilogx(time, psnr, '.')\n",
    "plt.grid(True, which='both')\n",
    "for x, y, s in zip(time, psnr, model):\n",
    "    plt.text(x, y, s)\n",
    "\n",
    "plt.xlim((0, 1.6))\n",
    "# plt.xticks(np.arange(0, 0.6, 0.1))\n",
    "plt.xlabel('Run time (sec)')\n",
    "plt.ylabel('PSNR (dB)')\n",
    "plt.title(f'Scale {scale} on {test_set}')\n",
    "\n",
    "plt.savefig(str(results_dir / f'performance-sc{scale}-{test_set}.png'))\n",
    "# plt.close()\n"
   ]
  },
  {
   "cell_type": "code",
   "execution_count": null,
   "metadata": {},
   "outputs": [],
   "source": [
    "\n",
    "\n",
    "# Performance plot\n",
    "for scale in [3, 4]:\n",
    "    for test_set in ['Set5', 'Set14']:\n",
    "        time = []\n",
    "        psnr = []\n",
    "        model = []\n",
    "        for save_dir in sorted(Path('.').glob(f'*-sc{scale}')):\n",
    "            if 'bicubic' not in save_dir.stem:\n",
    "                model += [save_dir.stem.rsplit('-', 1)[0].upper()]\n",
    "                metrics_file = save_dir / f'test/{test_set}/metrics.csv'\n",
    "                metrics = pd.read_csv(str(metrics_file), index_col='name')\n",
    "                time += [metrics.time.average]\n",
    "                psnr += [metrics.psnr.average]\n",
    "        plt.figure()\n",
    "        plt.semilogx(time, psnr, '.')\n",
    "        plt.grid(True, which='both')\n",
    "        for x, y, s in zip(time, psnr, model):\n",
    "            if 'NS' in s:\n",
    "                s = s.split('-')[1]\n",
    "            plt.text(x, y, s)\n",
    "        plt.xlabel('Run time (sec)')\n",
    "        plt.ylabel('PSNR (dB)')\n",
    "        plt.title(f'Scale {scale} on {test_set}')\n",
    "        plt.savefig(str(results_dir / f'performance-sc{scale}-{test_set}.png'))\n",
    "        plt.close()\n"
   ]
  },
  {
   "cell_type": "code",
   "execution_count": null,
   "metadata": {},
   "outputs": [],
   "source": [
    "\n",
    "# History plot\n",
    "for scale in [3, 4]:\n",
    "    plt.figure()\n",
    "    for save_dir in sorted(Path('.').glob(f'*-sc{scale}')):\n",
    "        if 'bicubic' not in save_dir.stem:\n",
    "            model = save_dir.stem.rsplit('-', 1)[0].upper()\n",
    "            history_file = save_dir / f'train/history.csv'\n",
    "            history = pd.read_csv(str(history_file))\n",
    "            plt.plot(history.epoch, history.val_psnr, label=model, alpha=0.8)\n",
    "    plt.legend()\n",
    "    plt.xlabel('Epochs')\n",
    "    plt.ylabel('Average test PSNR (dB)')\n",
    "    plt.savefig(str(results_dir / f'history-sc{scale}.png'))\n",
    "    plt.xlim(0, 500)\n",
    "    if scale == 3:\n",
    "        plt.ylim(31.5, 34.5)\n",
    "    if scale == 4:\n",
    "        plt.ylim(29, 32)\n",
    "    plt.savefig(str(results_dir / f'history-sc{scale}-zoom.png'))\n",
    "    plt.close()\n"
   ]
  }
 ],
 "metadata": {
  "kernelspec": {
   "display_name": "myenv",
   "language": "python",
   "name": "myenv"
  },
  "language_info": {
   "codemirror_mode": {
    "name": "ipython",
    "version": 3
   },
   "file_extension": ".py",
   "mimetype": "text/x-python",
   "name": "python",
   "nbconvert_exporter": "python",
   "pygments_lexer": "ipython3",
   "version": "3.7.3"
  }
 },
 "nbformat": 4,
 "nbformat_minor": 2
}

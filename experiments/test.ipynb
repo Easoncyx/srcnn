{
 "cells": [
  {
   "cell_type": "code",
   "execution_count": 1,
   "metadata": {},
   "outputs": [
    {
     "name": "stderr",
     "output_type": "stream",
     "text": [
      "Using TensorFlow backend.\n"
     ]
    }
   ],
   "source": [
    "import argparse\n",
    "from functools import partial\n",
    "import json\n",
    "from keras import optimizers\n",
    "from pathlib import Path\n",
    "\n",
    "from toolbox.data import load_set\n",
    "from toolbox.models import get_model\n",
    "from toolbox.experiment import Experiment\n",
    "\n",
    "from keras.layers import Conv2D\n",
    "from keras.layers import Conv2DTranspose\n",
    "from keras.layers import InputLayer\n",
    "from keras.models import Sequential\n",
    "\n",
    "\n",
    "import numpy as np\n",
    "from keras.preprocessing.image import img_to_array\n",
    "from keras.preprocessing.image import load_img\n",
    "\n",
    "from toolbox.image import bicubic_rescale\n",
    "from toolbox.image import modcrop\n",
    "from toolbox.paths import data_dir\n",
    "\n",
    "# import matplotlib\n",
    "# matplotlib.use('Agg')\n",
    "import matplotlib.pyplot as plt"
   ]
  },
  {
   "cell_type": "code",
   "execution_count": 17,
   "metadata": {},
   "outputs": [],
   "source": [
    "param = json.load(open('./espcn-example.json'))"
   ]
  },
  {
   "cell_type": "code",
   "execution_count": 20,
   "metadata": {},
   "outputs": [],
   "source": [
    "scale = param['scale']\n",
    "build_model = partial(get_model(param['model']['name']),\n",
    "                      **param['model']['params'])\n",
    "if 'optimizer' in param:\n",
    "    optimizer = getattr(optimizers, param['optimizer']['name'].lower())\n",
    "    optimizer = optimizer(**param['optimizer']['params'])\n",
    "else:\n",
    "    optimizer = 'adam'\n",
    "    "
   ]
  },
  {
   "cell_type": "code",
   "execution_count": 22,
   "metadata": {},
   "outputs": [],
   "source": [
    "# Data\n",
    "load_set = partial(load_set,\n",
    "                   lr_sub_size=param['lr_sub_size'],\n",
    "                   lr_sub_stride=param['lr_sub_stride'])"
   ]
  },
  {
   "cell_type": "code",
   "execution_count": 24,
   "metadata": {},
   "outputs": [],
   "source": [
    "# Training\n",
    "expt = Experiment(scale=param['scale'], load_set=load_set,\n",
    "                  build_model=build_model,optimizer=optimizer,\n",
    "                  save_dir=param['save_dir'])"
   ]
  },
  {
   "cell_type": "code",
   "execution_count": 94,
   "metadata": {},
   "outputs": [],
   "source": [
    "def espcn(x, f=[5, 3, 3], n=[64, 32], scale=3):\n",
    "    \"\"\"Build an ESPCN model.\n",
    "\n",
    "    See https://arxiv.org/abs/1609.05158\n",
    "    \"\"\"\n",
    "    assert len(f) == len(n) + 1\n",
    "    model = Sequential()\n",
    "    model.add(InputLayer(input_shape=x.shape[1:]))\n",
    "    c = x.shape[-1]\n",
    "    for ni, fi in zip(n, f):\n",
    "        model.add(Conv2D(ni, fi, padding='same',\n",
    "                         kernel_initializer='he_normal', activation='tanh'))\n",
    "    model.add(Conv2D(c * scale ** 2, f[-1], padding='same',\n",
    "                     kernel_initializer='he_normal'))\n",
    "    model.add(Conv2DSubPixel(scale))\n",
    "    return model"
   ]
  },
  {
   "cell_type": "code",
   "execution_count": 20,
   "metadata": {},
   "outputs": [],
   "source": [
    "\n",
    "\n",
    "def load_image_pair(path, scale=3):\n",
    "    image = load_img(path)\n",
    "    image = image.convert('YCbCr')\n",
    "    hr_image = modcrop(image, scale)\n",
    "    lr_image = bicubic_rescale(hr_image, 1 / scale)\n",
    "    return lr_image, hr_image\n",
    "\n",
    "\n",
    "def generate_sub_images(image, size, stride):\n",
    "    for i in range(0, image.size[0] - size + 1, stride):\n",
    "        for j in range(0, image.size[1] - size + 1, stride):\n",
    "            yield image.crop([i, j, i + size, j + size])\n",
    "\n",
    "     "
   ]
  },
  {
   "cell_type": "code",
   "execution_count": 95,
   "metadata": {},
   "outputs": [],
   "source": [
    "lr_sub_size=11\n",
    "lr_sub_stride=5\n",
    "scale=3\n",
    "name = '91-image'\n",
    "\n",
    "hr_sub_size = lr_sub_size * scale\n",
    "hr_sub_stride = lr_sub_stride * scale\n",
    "lr_gen_sub = partial(generate_sub_images, size=lr_sub_size,\n",
    "                     stride=lr_sub_stride)\n",
    "hr_gen_sub = partial(generate_sub_images, size=hr_sub_size,\n",
    "                     stride=hr_sub_stride)\n",
    "\n",
    "lr_sub_arrays = []\n",
    "hr_sub_arrays = []\n",
    "for path in (data_dir / name).glob('*'):\n",
    "    lr_image, hr_image = load_image_pair(str(path), scale=scale)\n",
    "    lr_sub_arrays += [img_to_array(img) for img in lr_gen_sub(lr_image)]\n",
    "    hr_sub_arrays += [img_to_array(img) for img in hr_gen_sub(hr_image)]\n",
    "x = np.stack(lr_sub_arrays)\n",
    "y = np.stack(hr_sub_arrays)"
   ]
  },
  {
   "cell_type": "code",
   "execution_count": 106,
   "metadata": {},
   "outputs": [
    {
     "ename": "NameError",
     "evalue": "name 'show' is not defined",
     "output_type": "error",
     "traceback": [
      "\u001b[0;31m---------------------------------------------------------------------------\u001b[0m",
      "\u001b[0;31mNameError\u001b[0m                                 Traceback (most recent call last)",
      "\u001b[0;32m<ipython-input-106-2d95ba895e59>\u001b[0m in \u001b[0;36m<module>\u001b[0;34m\u001b[0m\n\u001b[1;32m      1\u001b[0m \u001b[0mmatplotlib\u001b[0m\u001b[0;34m.\u001b[0m\u001b[0mpyplot\u001b[0m\u001b[0;34m.\u001b[0m\u001b[0mion\u001b[0m\u001b[0;34m(\u001b[0m\u001b[0;34m)\u001b[0m\u001b[0;34m\u001b[0m\u001b[0;34m\u001b[0m\u001b[0m\n\u001b[1;32m      2\u001b[0m \u001b[0mimgplot\u001b[0m \u001b[0;34m=\u001b[0m \u001b[0mplt\u001b[0m\u001b[0;34m.\u001b[0m\u001b[0mimshow\u001b[0m\u001b[0;34m(\u001b[0m\u001b[0mlr_sub_arrays\u001b[0m\u001b[0;34m[\u001b[0m\u001b[0;36m0\u001b[0m\u001b[0;34m]\u001b[0m\u001b[0;34m/\u001b[0m\u001b[0;36m255\u001b[0m\u001b[0;34m)\u001b[0m\u001b[0;34m\u001b[0m\u001b[0;34m\u001b[0m\u001b[0m\n\u001b[0;32m----> 3\u001b[0;31m \u001b[0mshow\u001b[0m\u001b[0;34m(\u001b[0m\u001b[0;34m)\u001b[0m\u001b[0;34m\u001b[0m\u001b[0;34m\u001b[0m\u001b[0m\n\u001b[0m",
      "\u001b[0;31mNameError\u001b[0m: name 'show' is not defined"
     ]
    }
   ],
   "source": [
    "matplotlib.pyplot.ion()\n",
    "imgplot = plt.imshow(lr_sub_arrays[0]/255)\n",
    "show()"
   ]
  },
  {
   "cell_type": "code",
   "execution_count": 8,
   "metadata": {},
   "outputs": [],
   "source": [
    "img = load_img('../data/91-image/t1.bmp')\n",
    "x = img_to_array(img)\n",
    "plt.imshow(x/255.)\n",
    "plt.show()"
   ]
  },
  {
   "cell_type": "code",
   "execution_count": 9,
   "metadata": {},
   "outputs": [
    {
     "data": {
      "text/plain": [
       "PosixPath('/home/yixu/Study/SuperResolition/srcnn/data')"
      ]
     },
     "execution_count": 9,
     "metadata": {},
     "output_type": "execute_result"
    }
   ],
   "source": [
    "data_dir"
   ]
  },
  {
   "cell_type": "code",
   "execution_count": 98,
   "metadata": {},
   "outputs": [
    {
     "data": {
      "text/plain": [
       "array([[[0.6313726 , 0.64705884, 0.49803922],\n",
       "        [0.63529414, 0.63529414, 0.49803922],\n",
       "        [0.6392157 , 0.627451  , 0.49803922],\n",
       "        [0.63529414, 0.63529414, 0.5019608 ],\n",
       "        [0.62352943, 0.6392157 , 0.5019608 ],\n",
       "        [0.627451  , 0.6431373 , 0.49803922],\n",
       "        [0.6509804 , 0.627451  , 0.5019608 ],\n",
       "        [0.5019608 , 0.6627451 , 0.5019608 ],\n",
       "        [0.5176471 , 0.68235296, 0.49803922],\n",
       "        [0.5529412 , 0.6627451 , 0.49803922],\n",
       "        [0.5647059 , 0.65882355, 0.49803922]],\n",
       "\n",
       "       [[0.5764706 , 0.64705884, 0.49803922],\n",
       "        [0.6313726 , 0.6431373 , 0.49803922],\n",
       "        [0.6431373 , 0.6313726 , 0.49803922],\n",
       "        [0.627451  , 0.63529414, 0.5019608 ],\n",
       "        [0.6156863 , 0.6392157 , 0.5019608 ],\n",
       "        [0.6039216 , 0.6431373 , 0.5019608 ],\n",
       "        [0.6       , 0.6509804 , 0.5019608 ],\n",
       "        [0.4745098 , 0.68235296, 0.5058824 ],\n",
       "        [0.50980395, 0.68235296, 0.5019608 ],\n",
       "        [0.54901963, 0.6627451 , 0.49803922],\n",
       "        [0.5529412 , 0.6627451 , 0.49803922]],\n",
       "\n",
       "       [[0.60784316, 0.64705884, 0.49803922],\n",
       "        [0.6156863 , 0.6431373 , 0.49803922],\n",
       "        [0.6431373 , 0.63529414, 0.49803922],\n",
       "        [0.63529414, 0.63529414, 0.5019608 ],\n",
       "        [0.62352943, 0.6392157 , 0.5019608 ],\n",
       "        [0.60784316, 0.6392157 , 0.5019608 ],\n",
       "        [0.54509807, 0.6627451 , 0.50980395],\n",
       "        [0.41568628, 0.69411767, 0.5137255 ],\n",
       "        [0.5254902 , 0.68235296, 0.5019608 ],\n",
       "        [0.57254905, 0.65882355, 0.49803922],\n",
       "        [0.53333336, 0.6627451 , 0.5019608 ]],\n",
       "\n",
       "       [[0.6431373 , 0.63529414, 0.49803922],\n",
       "        [0.6313726 , 0.63529414, 0.49803922],\n",
       "        [0.61960787, 0.63529414, 0.49803922],\n",
       "        [0.6313726 , 0.6392157 , 0.5019608 ],\n",
       "        [0.63529414, 0.6392157 , 0.5019608 ],\n",
       "        [0.6313726 , 0.6392157 , 0.49803922],\n",
       "        [0.60784316, 0.6431373 , 0.5058824 ],\n",
       "        [0.4509804 , 0.6784314 , 0.5137255 ],\n",
       "        [0.52156866, 0.68235296, 0.5019608 ],\n",
       "        [0.5686275 , 0.65882355, 0.5019608 ],\n",
       "        [0.5294118 , 0.6666667 , 0.5058824 ]],\n",
       "\n",
       "       [[0.64705884, 0.63529414, 0.49803922],\n",
       "        [0.6431373 , 0.63529414, 0.49803922],\n",
       "        [0.61960787, 0.6392157 , 0.49803922],\n",
       "        [0.6       , 0.64705884, 0.5019608 ],\n",
       "        [0.60784316, 0.64705884, 0.5019608 ],\n",
       "        [0.627451  , 0.6392157 , 0.49803922],\n",
       "        [0.6313726 , 0.63529414, 0.5019608 ],\n",
       "        [0.5019608 , 0.6666667 , 0.50980395],\n",
       "        [0.47058824, 0.6862745 , 0.5058824 ],\n",
       "        [0.54901963, 0.6666667 , 0.5019608 ],\n",
       "        [0.5294118 , 0.6745098 , 0.5019608 ]],\n",
       "\n",
       "       [[0.5294118 , 0.6627451 , 0.49803922],\n",
       "        [0.6039216 , 0.6431373 , 0.49803922],\n",
       "        [0.6392157 , 0.63529414, 0.49803922],\n",
       "        [0.6313726 , 0.6431373 , 0.49803922],\n",
       "        [0.6       , 0.6431373 , 0.49803922],\n",
       "        [0.59607846, 0.64705884, 0.49803922],\n",
       "        [0.6156863 , 0.63529414, 0.5019608 ],\n",
       "        [0.5137255 , 0.6627451 , 0.5058824 ],\n",
       "        [0.47843137, 0.68235296, 0.5058824 ],\n",
       "        [0.5254902 , 0.6745098 , 0.5019608 ],\n",
       "        [0.5019608 , 0.68235296, 0.5019608 ]],\n",
       "\n",
       "       [[0.42352942, 0.69411767, 0.49019608],\n",
       "        [0.4392157 , 0.6784314 , 0.49019608],\n",
       "        [0.4862745 , 0.6666667 , 0.49411765],\n",
       "        [0.57254905, 0.654902  , 0.49803922],\n",
       "        [0.62352943, 0.6392157 , 0.49803922],\n",
       "        [0.60784316, 0.64705884, 0.49803922],\n",
       "        [0.57254905, 0.64705884, 0.49803922],\n",
       "        [0.43137255, 0.68235296, 0.5019608 ],\n",
       "        [0.4862745 , 0.68235296, 0.5058824 ],\n",
       "        [0.5254902 , 0.6745098 , 0.5019608 ],\n",
       "        [0.5019608 , 0.6745098 , 0.49803922]],\n",
       "\n",
       "       [[0.38039216, 0.67058825, 0.49019608],\n",
       "        [0.43137255, 0.6784314 , 0.49019608],\n",
       "        [0.43137255, 0.68235296, 0.49019608],\n",
       "        [0.42352942, 0.6784314 , 0.49803922],\n",
       "        [0.43137255, 0.6784314 , 0.49803922],\n",
       "        [0.5254902 , 0.6666667 , 0.49803922],\n",
       "        [0.6       , 0.64705884, 0.49803922],\n",
       "        [0.4745098 , 0.6745098 , 0.5019608 ],\n",
       "        [0.4392157 , 0.6901961 , 0.5058824 ],\n",
       "        [0.5176471 , 0.6745098 , 0.5019608 ],\n",
       "        [0.5254902 , 0.67058825, 0.5019608 ]],\n",
       "\n",
       "       [[0.16862746, 0.6666667 , 0.49803922],\n",
       "        [0.19607843, 0.6745098 , 0.49411765],\n",
       "        [0.2901961 , 0.6745098 , 0.49019608],\n",
       "        [0.39215687, 0.6745098 , 0.49019608],\n",
       "        [0.42745098, 0.6784314 , 0.49019608],\n",
       "        [0.41568628, 0.6862745 , 0.49411765],\n",
       "        [0.4509804 , 0.6784314 , 0.49411765],\n",
       "        [0.49411765, 0.6666667 , 0.5019608 ],\n",
       "        [0.36078432, 0.69411767, 0.5058824 ],\n",
       "        [0.47843137, 0.6862745 , 0.5019608 ],\n",
       "        [0.5137255 , 0.6784314 , 0.5019608 ]],\n",
       "\n",
       "       [[0.15686275, 0.67058825, 0.49803922],\n",
       "        [0.15294118, 0.6745098 , 0.49411765],\n",
       "        [0.1254902 , 0.6745098 , 0.49019608],\n",
       "        [0.15686275, 0.6784314 , 0.4862745 ],\n",
       "        [0.2509804 , 0.6784314 , 0.4862745 ],\n",
       "        [0.34901962, 0.6745098 , 0.48235294],\n",
       "        [0.4117647 , 0.6784314 , 0.48235294],\n",
       "        [0.41960785, 0.68235296, 0.49019608],\n",
       "        [0.4       , 0.6862745 , 0.49019608],\n",
       "        [0.44705883, 0.68235296, 0.49803922],\n",
       "        [0.49411765, 0.6784314 , 0.5019608 ]],\n",
       "\n",
       "       [[0.15686275, 0.6745098 , 0.49803922],\n",
       "        [0.15686275, 0.6745098 , 0.49411765],\n",
       "        [0.14509805, 0.6745098 , 0.49019608],\n",
       "        [0.13333334, 0.68235296, 0.49019608],\n",
       "        [0.16078432, 0.68235296, 0.49019608],\n",
       "        [0.16862746, 0.6784314 , 0.49019608],\n",
       "        [0.21176471, 0.6784314 , 0.49411765],\n",
       "        [0.30588236, 0.6745098 , 0.49803922],\n",
       "        [0.39215687, 0.6784314 , 0.48235294],\n",
       "        [0.4392157 , 0.6745098 , 0.4862745 ],\n",
       "        [0.44313726, 0.6745098 , 0.49411765]]], dtype=float32)"
      ]
     },
     "execution_count": 98,
     "metadata": {},
     "output_type": "execute_result"
    }
   ],
   "source": [
    "lr_sub_arrays[0]/255"
   ]
  },
  {
   "cell_type": "code",
   "execution_count": 62,
   "metadata": {},
   "outputs": [
    {
     "name": "stdout",
     "output_type": "stream",
     "text": [
      "/home/yixu/Study/SuperResolition/srcnn/data/91-image/t63.bmp\n",
      "<class 'PIL.BmpImagePlugin.BmpImageFile'>\n",
      "<class 'numpy.ndarray'>\n",
      "(202, 245, 3)\n"
     ]
    }
   ],
   "source": [
    "for path in (data_dir / name).glob('*'):\n",
    "    print(path)\n",
    "    image = load_img(path)\n",
    "    x = img_to_array(image)\n",
    "    plt.figure(1)\n",
    "    imgplot = plt.imshow(x/255.0)\n",
    "    plt.show()\n",
    "    image = image.convert('YCbCr')\n",
    "    hr_image = modcrop(image, scale)\n",
    "    lr_image = bicubic_rescale(hr_image, 1 / scale)\n",
    "    break"
   ]
  },
  {
   "cell_type": "code",
   "execution_count": null,
   "metadata": {},
   "outputs": [],
   "source": []
  },
  {
   "cell_type": "code",
   "execution_count": null,
   "metadata": {},
   "outputs": [],
   "source": [
    "\n"
   ]
  },
  {
   "cell_type": "code",
   "execution_count": null,
   "metadata": {},
   "outputs": [],
   "source": []
  },
  {
   "cell_type": "code",
   "execution_count": null,
   "metadata": {},
   "outputs": [],
   "source": []
  }
 ],
 "metadata": {
  "kernelspec": {
   "display_name": "Python 3",
   "language": "python",
   "name": "python3"
  },
  "language_info": {
   "codemirror_mode": {
    "name": "ipython",
    "version": 3
   },
   "file_extension": ".py",
   "mimetype": "text/x-python",
   "name": "python",
   "nbconvert_exporter": "python",
   "pygments_lexer": "ipython3",
   "version": "3.6.8"
  }
 },
 "nbformat": 4,
 "nbformat_minor": 2
}
